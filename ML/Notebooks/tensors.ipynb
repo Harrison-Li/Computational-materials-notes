{
 "cells": [
  {
   "cell_type": "code",
   "execution_count": 1,
   "id": "df5ba265",
   "metadata": {},
   "outputs": [],
   "source": [
    "import torch\n",
    "import numpy as np"
   ]
  },
  {
   "cell_type": "markdown",
   "id": "ce93ad2f",
   "metadata": {},
   "source": [
    "# Torch tensors"
   ]
  },
  {
   "cell_type": "markdown",
   "id": "b4f0e8ea",
   "metadata": {},
   "source": [
    "## Initializing a Tensor\n",
    "It can receive datas from 4 perspective:\n",
    "1. Direclt from data\n",
    "2. From Numpy array\n",
    "3. From another tensor\n",
    "4. from random or constant values"
   ]
  },
  {
   "cell_type": "code",
   "execution_count": 2,
   "id": "cae7e665",
   "metadata": {},
   "outputs": [
    {
     "name": "stdout",
     "output_type": "stream",
     "text": [
      "x_data: tensor([[1, 2, 3],\n",
      "        [4, 5, 6]]) \n",
      " torch.Size([2, 3]) \n",
      " torch.int64\n"
     ]
    }
   ],
   "source": [
    "# Tensors can be created directly from data. The data type is automatically inferred.\n",
    "data = [[1, 2, 3],[4, 5, 6]] # [2,3]\n",
    "x_data = torch.tensor(data)\n",
    "print(f\"x_data: {x_data}\", \"\\n\", x_data.shape,\"\\n\", x_data.dtype)"
   ]
  },
  {
   "cell_type": "code",
   "execution_count": 3,
   "id": "ef30600b",
   "metadata": {},
   "outputs": [
    {
     "name": "stdout",
     "output_type": "stream",
     "text": [
      "x_np: tensor([[1, 2, 3],\n",
      "        [4, 5, 6]]) \n",
      " torch.Size([2, 3]) \n",
      " torch.int64\n"
     ]
    }
   ],
   "source": [
    "# From a Numpy array\n",
    "np_array = np.array(data)\n",
    "x_np = torch.tensor(np_array) # torch.from_numpy() formal function\n",
    "print(f\"x_np: {x_np}\", \"\\n\", x_np.shape,\"\\n\", x_np.dtype)"
   ]
  },
  {
   "cell_type": "code",
   "execution_count": 4,
   "id": "318b86f0",
   "metadata": {},
   "outputs": [
    {
     "name": "stdout",
     "output_type": "stream",
     "text": [
      "Ones Tensor: \n",
      " tensor([[1, 1, 1],\n",
      "        [1, 1, 1]]) \n",
      "\n",
      "Zeros Tensor: \n",
      " tensor([[0, 0, 0],\n",
      "        [0, 0, 0]]) \n",
      "\n",
      "Random Tensor: \n",
      " tensor([[0.5610, 0.2298, 0.2094],\n",
      "        [0.4241, 0.1913, 0.8751]]) \n",
      "\n",
      "Zeros Tensor with shape (3,4): \n",
      " tensor([[0., 0., 0., 0.],\n",
      "        [0., 0., 0., 0.],\n",
      "        [0., 0., 0., 0.]]) \n",
      "\n"
     ]
    }
   ],
   "source": [
    "# From another tensor\n",
    "# The new tensor retains the properties (shape, datatype) of the argument tensor, unless explicitly overridden.\n",
    "x_ones = torch.ones_like(x_data)\n",
    "print(f\"Ones Tensor: \\n {x_ones} \\n\")\n",
    "x_zeros = torch.zeros_like(x_data)\n",
    "print(f\"Zeros Tensor: \\n {x_zeros} \\n\")\n",
    "x_rand = torch.rand_like(x_data, dtype=torch.float) # overrides the datatype of x_data\n",
    "print(f\"Random Tensor: \\n {x_rand} \\n\")\n",
    "# If you want a tensor of zeros with shape (3,4), use torch.zeros instead:\n",
    "x_zeros_new = torch.zeros((3, 4), dtype=torch.float)\n",
    "print(f\"Zeros Tensor with shape (3,4): \\n {x_zeros_new} \\n\")"
   ]
  },
  {
   "cell_type": "code",
   "execution_count": 5,
   "id": "94dba54d",
   "metadata": {},
   "outputs": [
    {
     "name": "stdout",
     "output_type": "stream",
     "text": [
      "Random Tensor: \n",
      " tensor([[0.6324, 0.6010, 0.8182],\n",
      "        [0.3405, 0.7864, 0.3180]]) \n",
      "\n",
      "Ones Tensor: \n",
      " tensor([[1., 1., 1.],\n",
      "        [1., 1., 1.]]) \n",
      "\n",
      "Zeros Tensor: \n",
      " tensor([[0., 0., 0.],\n",
      "        [0., 0., 0.]])\n"
     ]
    }
   ],
   "source": [
    "# From random or constant values:\n",
    "rand_tensor = torch.rand((2,3))\n",
    "ones_tensor = torch.ones((2,3))\n",
    "zeros_tensor = torch.zeros((2,3))\n",
    "\n",
    "print(f\"Random Tensor: \\n {rand_tensor} \\n\")\n",
    "print(f\"Ones Tensor: \\n {ones_tensor} \\n\")\n",
    "print(f\"Zeros Tensor: \\n {zeros_tensor}\")"
   ]
  },
  {
   "cell_type": "markdown",
   "id": "58f8525d",
   "metadata": {},
   "source": [
    "# Attributes of a Tensor"
   ]
  },
  {
   "cell_type": "code",
   "execution_count": 8,
   "id": "1c6e33ae",
   "metadata": {},
   "outputs": [
    {
     "name": "stdout",
     "output_type": "stream",
     "text": [
      "Random tensor: tensor([[0.5980, 0.0513, 0.5007, 0.6503],\n",
      "        [0.5408, 0.1214, 0.9344, 0.9638],\n",
      "        [0.2120, 0.2860, 0.7308, 0.5692]])\n",
      "Shape: torch.Size([3, 4])\n",
      "Type: torch.float32\n",
      "Device tensor is stored on: cpu\n"
     ]
    }
   ],
   "source": [
    "tensor = torch.rand(3,4)\n",
    "print (f\"Random tensor: {tensor}\")\n",
    "print (f\"Shape: {tensor.shape}\")\n",
    "print(f\"Type: {tensor.dtype}\")\n",
    "print(f\"Device tensor is stored on: {tensor.device}\")"
   ]
  },
  {
   "cell_type": "markdown",
   "id": "da132618",
   "metadata": {},
   "source": [
    "## Operations on Tensors"
   ]
  },
  {
   "cell_type": "code",
   "execution_count": 14,
   "id": "550dff8d",
   "metadata": {},
   "outputs": [
    {
     "name": "stdout",
     "output_type": "stream",
     "text": [
      "mps:0\n"
     ]
    }
   ],
   "source": [
    "# We move our tensor to the current accelerator if available\n",
    "if torch.accelerator.is_available():\n",
    "    tensor = tensor.to(torch.accelerator.current_accelerator())\n",
    "print(tensor.device)"
   ]
  },
  {
   "cell_type": "code",
   "execution_count": 21,
   "id": "f6ca094e",
   "metadata": {},
   "outputs": [
    {
     "name": "stdout",
     "output_type": "stream",
     "text": [
      "First row: tensor([1., 1., 1., 1.])\n",
      "First column: tensor([1., 1., 1., 1.])\n",
      "Last column: tensor([1., 1., 1., 1.])\n",
      "tensor([[1., 0., 1., 1.],\n",
      "        [1., 0., 1., 1.],\n",
      "        [1., 0., 1., 1.],\n",
      "        [1., 0., 1., 1.]])\n"
     ]
    }
   ],
   "source": [
    "# Standard numpy-like indexing and slicing:\n",
    "tensor = torch.ones(4,4)\n",
    "print(f\"First row: {tensor[0,:]}\")\n",
    "print(f\"First column: {tensor[:,0]}\")\n",
    "print(f\"Last column: {tensor[:,-1]}\")\n",
    "tensor[:,1] = 0\n",
    "print(tensor)"
   ]
  },
  {
   "cell_type": "code",
   "execution_count": null,
   "id": "f7e9df34",
   "metadata": {},
   "outputs": [
    {
     "name": "stdout",
     "output_type": "stream",
     "text": [
      "tensor([[1., 0., 1., 1., 1., 0., 1., 1., 1., 0., 1., 1.],\n",
      "        [1., 0., 1., 1., 1., 0., 1., 1., 1., 0., 1., 1.],\n",
      "        [1., 0., 1., 1., 1., 0., 1., 1., 1., 0., 1., 1.],\n",
      "        [1., 0., 1., 1., 1., 0., 1., 1., 1., 0., 1., 1.]]) torch.Size([4, 12])\n"
     ]
    }
   ],
   "source": [
    "# Joining tensors You can use torch.cat to concatenate a sequence of tensors along a given dimension\n",
    "tensor_cat = torch.cat([tensor, tensor, tensor],dim=1) # dim decides dimension to be concatenated, 0-> row, 1-> column\n",
    "print(tensor_cat,tensor_cat.shape)"
   ]
  },
  {
   "cell_type": "markdown",
   "id": "20ddc2a5",
   "metadata": {},
   "source": [
    "\t•\t@ and matmul() → Matrix multiply\n",
    "\t•\t* and mul() → Element-wise multiply"
   ]
  },
  {
   "cell_type": "code",
   "execution_count": 27,
   "id": "8eae1688",
   "metadata": {},
   "outputs": [
    {
     "data": {
      "text/plain": [
       "tensor([[3., 3., 3., 3.],\n",
       "        [3., 3., 3., 3.],\n",
       "        [3., 3., 3., 3.],\n",
       "        [3., 3., 3., 3.]])"
      ]
     },
     "execution_count": 27,
     "metadata": {},
     "output_type": "execute_result"
    }
   ],
   "source": [
    "# Arithmetic operations\n",
    "# All of these give the same result:\n",
    "y1 = tensor @ tensor.T           # Operator version\n",
    "y2 = tensor.matmul(tensor.T)     # Function version\n",
    "\n",
    "y3 = torch.rand_like(y1)         # Pre-allocate output tensor\n",
    "torch.matmul(tensor, tensor.T, out=y3)  # In-place version (saves memory)"
   ]
  },
  {
   "cell_type": "code",
   "execution_count": 29,
   "id": "bce9c0a6",
   "metadata": {},
   "outputs": [
    {
     "data": {
      "text/plain": [
       "tensor([[1., 0., 1., 1.],\n",
       "        [1., 0., 1., 1.],\n",
       "        [1., 0., 1., 1.],\n",
       "        [1., 0., 1., 1.]])"
      ]
     },
     "execution_count": 29,
     "metadata": {},
     "output_type": "execute_result"
    }
   ],
   "source": [
    "# This computes the element-wise product. z1, z2, z3 will have the same value\n",
    "z1 = tensor * tensor\n",
    "z2 = tensor.mul(tensor)\n",
    "\n",
    "z3 = torch.rand_like(tensor)\n",
    "torch.mul(tensor, tensor, out=z3)"
   ]
  },
  {
   "cell_type": "code",
   "execution_count": 38,
   "id": "f1787c73",
   "metadata": {},
   "outputs": [
    {
     "name": "stdout",
     "output_type": "stream",
     "text": [
      "12.0 <class 'float'>\n"
     ]
    }
   ],
   "source": [
    "# Single-element tensors\n",
    "# If you have a one-element tensor, for example by aggregating all values of a tensor into one value, you can convert it to a Python numerical value using item():\n",
    "agg = tensor.sum()\n",
    "agg_item = agg.item()\n",
    "print(agg_item, type(agg_item))"
   ]
  },
  {
   "cell_type": "markdown",
   "id": "4651ddb6",
   "metadata": {},
   "source": [
    "In-place operations Operations that store the result into the operand are called in-place. They are denoted by a _ suffix. For example: x.copy_(y), x.t_(), will change x.\n",
    "\n",
    "Note:\\\n",
    "In-place operations save some memory, but can be problematic when computing derivatives because of an immediate loss of history. Hence, their use is discouraged."
   ]
  },
  {
   "cell_type": "code",
   "execution_count": 39,
   "id": "f6c9c730",
   "metadata": {},
   "outputs": [
    {
     "name": "stdout",
     "output_type": "stream",
     "text": [
      "tensor([[1., 0., 1., 1.],\n",
      "        [1., 0., 1., 1.],\n",
      "        [1., 0., 1., 1.],\n",
      "        [1., 0., 1., 1.]]) \n",
      "\n",
      "tensor([[6., 5., 6., 6.],\n",
      "        [6., 5., 6., 6.],\n",
      "        [6., 5., 6., 6.],\n",
      "        [6., 5., 6., 6.]])\n"
     ]
    }
   ],
   "source": [
    "print(f\"{tensor} \\n\")\n",
    "tensor.add_(5)\n",
    "print(tensor)"
   ]
  },
  {
   "cell_type": "code",
   "execution_count": null,
   "id": "280a5126",
   "metadata": {},
   "outputs": [],
   "source": []
  }
 ],
 "metadata": {
  "kernelspec": {
   "display_name": "base",
   "language": "python",
   "name": "python3"
  },
  "language_info": {
   "codemirror_mode": {
    "name": "ipython",
    "version": 3
   },
   "file_extension": ".py",
   "mimetype": "text/x-python",
   "name": "python",
   "nbconvert_exporter": "python",
   "pygments_lexer": "ipython3",
   "version": "3.12.2"
  }
 },
 "nbformat": 4,
 "nbformat_minor": 5
}
